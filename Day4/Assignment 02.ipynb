{
 "cells": [
  {
   "cell_type": "code",
   "execution_count": 78,
   "metadata": {},
   "outputs": [
    {
     "name": "stdout",
     "output_type": "stream",
     "text": [
      "Addition of two complex numbers :  (7-4j)\n",
      "Subtraction of two complex numbers :  (1+10j)\n",
      "Multiplication of two complex numbers :  (33-19j)\n",
      "Division of two complex numbers :  (-0.15517241379310348+0.6379310344827587j)\n"
     ]
    }
   ],
   "source": [
    "# Q1.ANS\n",
    "print(\"Addition of two complex numbers : \",(4+3j)+(3-7j))\n",
    "print(\"Subtraction of two complex numbers : \",(4+3j)-(3-7j))\n",
    "print(\"Multiplication of two complex numbers : \",(4+3j)*(3-7j))\n",
    "print(\"Division of two complex numbers : \",(4+3j)/(3-7j))"
   ]
  },
  {
   "cell_type": "code",
   "execution_count": 77,
   "metadata": {},
   "outputs": [
    {
     "name": "stdout",
     "output_type": "stream",
     "text": [
      "Enter complex number of form a+bj: 1+3j\n",
      "The modulus of  (1+3j)  is 3.1622776601683795\n"
     ]
    }
   ],
   "source": [
    "x=complex(input(\"Enter complex number of form a+bj: \"))\n",
    "print(\"The modulus of \",x,\" is\", abs(x))"
   ]
  },
  {
   "cell_type": "code",
   "execution_count": null,
   "metadata": {},
   "outputs": [],
   "source": []
  },
  {
   "cell_type": "code",
   "execution_count": null,
   "metadata": {},
   "outputs": [],
   "source": []
  },
  {
   "cell_type": "markdown",
   "metadata": {},
   "source": [
    "## Q2. ANS\n",
    "### range() is a built-in function of Python\n",
    "### It is used when a user needs to perform an action for a specific number of times.\n",
    "### start: integer starting from which the sequence of integers is to be returned.\n",
    "### stop: integer before which the sequence of integers is to be returned.\n",
    "### step: integer value which determines the increment between each integer in the sequence"
   ]
  },
  {
   "cell_type": "code",
   "execution_count": 70,
   "metadata": {},
   "outputs": [
    {
     "name": "stdout",
     "output_type": "stream",
     "text": [
      "Enter First Number: 26\n",
      "Enter Second Number: 2\n",
      "13.0\n"
     ]
    }
   ],
   "source": [
    "# Q3.ANS\n",
    "num1 = int(input(\"Enter First Number: \"))\n",
    "num2 = int(input(\"Enter Second Number: \"))\n",
    "a = num1 - num2\n",
    "if (a>=25):\n",
    "    print(num1 * num2)\n",
    "else :\n",
    "    print(num1 / num2)\n",
    "    "
   ]
  },
  {
   "cell_type": "code",
   "execution_count": 72,
   "metadata": {},
   "outputs": [
    {
     "name": "stdout",
     "output_type": "stream",
     "text": [
      "square of that number minus 2\n",
      "square of that number minus 2\n",
      "square of that number minus 2\n",
      "square of that number minus 2\n"
     ]
    }
   ],
   "source": [
    "# Q4.ANS\n",
    "def d(n,a = []):\n",
    "    for i in range(0,len(a)):\n",
    "        if a[i]% n ==0:\n",
    "            print(\"square of that number minus 2\")\n",
    "a = [11,2,3,45,66,77,8,9,33,44]\n",
    "ans = d(2,a)"
   ]
  },
  {
   "cell_type": "code",
   "execution_count": 74,
   "metadata": {},
   "outputs": [
    {
     "name": "stdout",
     "output_type": "stream",
     "text": [
      "22.5\n",
      "33.0\n",
      "38.5\n",
      "16.5\n",
      "22.0\n"
     ]
    }
   ],
   "source": [
    "# Q5.ANS\n",
    "def ad(n,a= []):\n",
    "    for i in a:\n",
    "        a=i/n\n",
    "        if (a>=7):\n",
    "            print(a)\n",
    "a = [11,2,3,45,66,77,8,9,33,44]\n",
    "ans = ad(2,a)"
   ]
  },
  {
   "cell_type": "code",
   "execution_count": null,
   "metadata": {},
   "outputs": [],
   "source": []
  }
 ],
 "metadata": {
  "kernelspec": {
   "display_name": "Python 3",
   "language": "python",
   "name": "python3"
  },
  "language_info": {
   "codemirror_mode": {
    "name": "ipython",
    "version": 3
   },
   "file_extension": ".py",
   "mimetype": "text/x-python",
   "name": "python",
   "nbconvert_exporter": "python",
   "pygments_lexer": "ipython3",
   "version": "3.7.3"
  }
 },
 "nbformat": 4,
 "nbformat_minor": 4
}
