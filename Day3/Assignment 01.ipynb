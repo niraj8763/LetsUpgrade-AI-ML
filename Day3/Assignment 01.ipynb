{
 "cells": [
  {
   "cell_type": "code",
   "execution_count": 8,
   "metadata": {},
   "outputs": [
    {
     "name": "stdout",
     "output_type": "stream",
     "text": [
      "Subtraction is :  (1+1j)\n"
     ]
    }
   ],
   "source": [
    "# Q1.ANS\n",
    "def subComplex( z1, z2): \n",
    "    return z1-z2  \n",
    "z1 = complex(2, 3) \n",
    "z2 = complex(1, 2) \n",
    "print( \"Subtraction is : \", subComplex(z1, z2)) "
   ]
  },
  {
   "cell_type": "code",
   "execution_count": 9,
   "metadata": {},
   "outputs": [
    {
     "name": "stdout",
     "output_type": "stream",
     "text": [
      "The square root of 4.000 is 2.000\n"
     ]
    }
   ],
   "source": [
    "# Q2.ANS\n",
    "num = 4 \n",
    "num_sqrt = num ** 0.5\n",
    "print('The square root of %0.3f is %0.3f'%(num ,num_sqrt))"
   ]
  },
  {
   "cell_type": "code",
   "execution_count": 10,
   "metadata": {},
   "outputs": [
    {
     "name": "stdout",
     "output_type": "stream",
     "text": [
      "The value of x after swapping: 10\n",
      "The value of y after swapping: 5\n"
     ]
    }
   ],
   "source": [
    "# Q3.ANS\n",
    "x = 5\n",
    "y = 10\n",
    "temp = x\n",
    "x = y\n",
    "y = temp\n",
    "print('The value of x after swapping: {}'.format(x))\n",
    "print('The value of y after swapping: {}'.format(y))"
   ]
  },
  {
   "cell_type": "code",
   "execution_count": 11,
   "metadata": {},
   "outputs": [
    {
     "name": "stdout",
     "output_type": "stream",
     "text": [
      "After Swapping: x = 5  y = 10\n"
     ]
    }
   ],
   "source": [
    "# Q4.ANS\n",
    "x = 10\n",
    "y = 5\n",
    "x = x + y   \n",
    "y = x - y  \n",
    "x = x - y  \n",
    "print(\"After Swapping: x =\", x, \" y =\", y)"
   ]
  },
  {
   "cell_type": "code",
   "execution_count": 12,
   "metadata": {},
   "outputs": [
    {
     "name": "stdout",
     "output_type": "stream",
     "text": [
      "Temperature in Kelvin ( K ) = 311.278\n"
     ]
    }
   ],
   "source": [
    "# Q5.ANS\n",
    "def Fahrenheit_to_Kelvin(F): \n",
    "    return 273.5 + ((F - 32.0) * (5.0/9.0)) \n",
    "F = 100\n",
    "print(\"Temperature in Kelvin ( K ) = {:.3f}\" .format(Fahrenheit_to_Kelvin( F ))) "
   ]
  },
  {
   "cell_type": "code",
   "execution_count": 13,
   "metadata": {},
   "outputs": [
    {
     "name": "stdout",
     "output_type": "stream",
     "text": [
      "5 is of type <class 'int'>\n",
      "2.0 is of type <class 'float'>\n",
      "(1+2j) is complex number? True\n"
     ]
    }
   ],
   "source": [
    "# Q6.ANS\n",
    "a = 5\n",
    "print(a, \"is of type\", type(a))\n",
    "\n",
    "a = 2.0\n",
    "print(a, \"is of type\", type(a))\n",
    "\n",
    "a = 1+2j\n",
    "print(a, \"is complex number?\", isinstance(1+2j,complex))"
   ]
  },
  {
   "cell_type": "markdown",
   "metadata": {},
   "source": [
    "# Q7.ANS\n",
    "## 1. Create a Github public repo and name it LetsUpgrade AI/ML\n",
    "## 2. Upload the files/solution in the repo in day wise manner\n",
    "## 3. Copy the URL of the Folder of that day and paste in the Assignment    Submission Form (Google Form)\n",
    "## 4. Make sure you are filling correct details in the Assignment                  Submission Form.\n",
    "## 5. All the drop-downs will be available till the week end only. i.e Previous weeks drop-down will disappear on each Sunday 11:59 PM\n",
    "## 6. You have to submit all the assignment given during the weekdays by respective SUNDAY 11:59 PM IST."
   ]
  }
 ],
 "metadata": {
  "kernelspec": {
   "display_name": "Python 3",
   "language": "python",
   "name": "python3"
  },
  "language_info": {
   "codemirror_mode": {
    "name": "ipython",
    "version": 3
   },
   "file_extension": ".py",
   "mimetype": "text/x-python",
   "name": "python",
   "nbconvert_exporter": "python",
   "pygments_lexer": "ipython3",
   "version": "3.7.3"
  }
 },
 "nbformat": 4,
 "nbformat_minor": 4
}
